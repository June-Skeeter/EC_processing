{
 "cells": [
  {
   "cell_type": "code",
   "execution_count": 45,
   "id": "825322c7",
   "metadata": {},
   "outputs": [
    {
     "name": "stdout",
     "output_type": "stream",
     "text": [
      "projectPath outputs/pie outputs\n",
      "outputs/projectConfiguration.yml\n"
     ]
    },
    {
     "data": {
      "text/plain": [
       "projectConfiguration(projectPath='outputs', dateCreated=None, dateModified='2025-10-30T18:18:53Z')"
      ]
     },
     "execution_count": 45,
     "metadata": {},
     "output_type": "execute_result"
    }
   ],
   "source": [
    "from dataclasses import dataclass,field\n",
    "import yaml\n",
    "import os\n",
    "\n",
    "@dataclass(kw_only=True)\n",
    "class projectConfiguration:\n",
    "    projectPath: str = None\n",
    "    dateCreated: str = None\n",
    "    dateModified: str = field(default_factory=lambda: datetime.now(UTC).strftime('%Y-%m-%dT%H:%M:%SZ'))\n",
    "\n",
    "    def __post_init__(self):\n",
    "        fn = os.path.join(self.projectPath,type(self).__name__+'.yml')\n",
    "        if os.path.exists(fn):\n",
    "            with open(fn) as f:\n",
    "                tmp = yaml.safe_load(f)\n",
    "            for key,value in tmp.items():\n",
    "                if self.__dict__[key] is not None:\n",
    "                    print(key,value,self.__dict__[key])\n",
    "                    \n",
    "        elif os.path.isdir(self.projectPath) and not os.listdir(self.projectPath) == []:\n",
    "            sys.exit('Error!')\n",
    "        else:\n",
    "            self.dateCreated = self.dateModified\n",
    "\n",
    "        self.write()\n",
    "\n",
    "    def write(self):\n",
    "        fn = os.path.join(self.projectPath,type(self).__name__+'.yml')\n",
    "        print(fn)\n",
    "        with open(fn,'w') as f:\n",
    "            yaml.safe_dump(\n",
    "                {key:self.__dict__[key] for key in self.__annotations__},\n",
    "                f\n",
    "            )\n",
    "\n",
    "projectConfiguration(projectPath='outputs')"
   ]
  },
  {
   "cell_type": "code",
   "execution_count": 51,
   "id": "d558ef27",
   "metadata": {},
   "outputs": [
    {
     "data": {
      "text/plain": [
       "'a:b'"
      ]
     },
     "execution_count": 51,
     "metadata": {},
     "output_type": "execute_result"
    }
   ],
   "source": [
    "import yaml\n",
    "t = '''\n",
    "a:b\n",
    "'''\n",
    "d = yaml.safe_load(t)\n",
    "d"
   ]
  }
 ],
 "metadata": {
  "kernelspec": {
   "display_name": ".venv",
   "language": "python",
   "name": "python3"
  },
  "language_info": {
   "codemirror_mode": {
    "name": "ipython",
    "version": 3
   },
   "file_extension": ".py",
   "mimetype": "text/x-python",
   "name": "python",
   "nbconvert_exporter": "python",
   "pygments_lexer": "ipython3",
   "version": "3.12.9"
  }
 },
 "nbformat": 4,
 "nbformat_minor": 5
}
